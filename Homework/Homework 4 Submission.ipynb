{
 "cells": [
  {
   "cell_type": "markdown",
   "id": "higher-bulgarian",
   "metadata": {},
   "source": [
    "### Problem 1 (10 Points)\n",
    "\n",
    "Sketch graphically the problem \n",
    "\n",
    "$$\n",
    "\\begin{aligned}\n",
    "\\min_{x_1,x_2} & \\quad f({\\bf x})=(x_1+1)^2+(x_2-2)^2\\\\\n",
    "{\\text{subject to }} & \\quad g_1 = x_1-2\\leq 0,{\\quad} g_3 = -x_1\\leq 0,\\\\\n",
    "& \\quad g_2 = x_2-1\\leq 0, {\\quad} g_4 = -x_2\\leq 0.\n",
    "\\end{aligned}\n",
    "$$\n",
    "\n",
    "Find the optimum graphically. Determine directions of feasible descent at the corner points of the feasible domain. Show the gradient directions of $f$ and $g_i$'s at these points. Verify graphical results analytically using the KKT conditions.\n",
    "\n",
    "### Problem 2 (10 Points)\n",
    "\n",
    "Graph the problem \n",
    "\n",
    "$$\n",
    "\\begin{aligned}\n",
    "\\min_{x_1,x_2} & \\quad  f=-x_1\\\\\n",
    "{\\text{subject to }} & \\quad g_1=x_2-(1-x_1)^3\\leq 0{\\quad} {\\rm and}{\\quad} x_2\\geq 0.\n",
    "\\end{aligned}\n",
    "$$ \n",
    "\n",
    "Find the solution graphically. Then apply the optimality conditions. Can you find a solution based on the optimality conditions? Why? (From Kuhn and Tucker, 1951.)\n",
    "\n",
    "### Problem 3 (30 Points)\n",
    "\n",
    "Find a local solution to the problem \n",
    "\n",
    "$$\n",
    "\\begin{aligned}\n",
    "\\max_{x_1,x_2,x_3} & \\quad  f=x_1x_2+x_2x_3+x_1x_3\\\\\n",
    "{\\text{subject to }} & \\quad h=x_1+x_2+x_3-3=0.\n",
    "\\end{aligned}\n",
    "$$ \n",
    "\n",
    "Use two methods: reduced gradient and Lagrange multipliers.\n",
    "\n",
    "### Problem 4 (20 Points)\n",
    "\n",
    "Use reduced gradient to\tfind the value(s) of the parameter $b$ for which the point $x_1=1$, $x_2=2$ is the solution to the problem \n",
    "\n",
    "$$\n",
    "\\begin{aligned}\n",
    "\\max_{x_1,x_2} & \\quad  f=2x_{1} + bx_2\\\\\n",
    "{\\text{subject to }} & \\quad g_1 = x_{1}^{2}+ x_{2}^{2}-5\\leq 0\\\\\n",
    "& \\quad g_2= x_1- x_2-2\\leq 0.\n",
    "\\end{aligned}\n",
    "$$ \n",
    "\n",
    "### Problem 5 (30 Points)\n",
    "\n",
    "Find the solution for \n",
    "\n",
    "$$\n",
    "\\begin{aligned}\n",
    "\\min_{x_1,x_2,x_3} & \\quad  f=x_{1}^{2}+x_{2}^{2}+x_{3}^{2}\\\\\n",
    "{\\text{subject to }} & \\quad h_1 = x_{1}^{2}/4+x_{2}^{2}/5+x_{3}^{2}/25-1=0\\\\\n",
    "& \\quad h_2 = x_1+x_2-x_3= 0,\n",
    "\\end{aligned}\n",
    "$$ \n",
    "\n",
    "by implementing the generalized reduced gradient algorithm."
   ]
  },
  {
   "cell_type": "markdown",
   "id": "2510e525",
   "metadata": {},
   "source": [
    "---\n",
    "---\n",
    "# Solutions:\n",
    "\n",
    "## Problem 1"
   ]
  },
  {
   "cell_type": "code",
   "execution_count": null,
   "id": "2aaf7a02",
   "metadata": {},
   "outputs": [],
   "source": [
    "## imports\n",
    "import numpy as np\n",
    "import matplotlib.pyplot as plt\n"
   ]
  },
  {
   "cell_type": "code",
   "execution_count": null,
   "id": "8bc89b8f",
   "metadata": {},
   "outputs": [],
   "source": [
    "def f_prob_1(x):\n",
    "    y = (x[0] + 1)**2 + (x[1] - 2)**2\n",
    "    return y\n"
   ]
  },
  {
   "cell_type": "markdown",
   "id": "de4984a2",
   "metadata": {},
   "source": [
    "---\n",
    "\n",
    "## Problem 2"
   ]
  },
  {
   "cell_type": "code",
   "execution_count": null,
   "id": "7f7fd908",
   "metadata": {},
   "outputs": [],
   "source": [
    "def f_prob_2(x):\n",
    "    y = -1.0 * x[0]\n",
    "    return y\n"
   ]
  },
  {
   "cell_type": "markdown",
   "id": "a8d822eb",
   "metadata": {},
   "source": [
    "---\n",
    "\n",
    "## Problem 3\n",
    "\n",
    "Starting with the Lagrange multipliers method, we can write the Lagrangian as \n",
    "$$\n",
    " \\mathcal{L}(x, \\lambda) = f(x) - \\lambda h(x) = \n",
    "$$\n",
    "$$\n",
    "x_1x_2+x_2x_3+x_1x_3 - \\lambda (x_1+x_2+x_3-3)\\\\\n",
    "$$\n",
    "\n",
    "Then setting the gradient of this to zero and solving is \n",
    "$$\n",
    "\\nabla_{x, \\lambda} \\mathcal{L}(x, \\lambda) = \n",
    "\\begin{aligned}\n",
    "x_2 + x_3 - \\lambda & = 0 \\\\\n",
    "x_1 + x_3 - \\lambda & = 0 \\\\\n",
    "x_2 + x_1 - \\lambda & = 0 \\\\\n",
    "x_1 + x_2 + x_3 - 3 & = 0 \n",
    "\\end{aligned}\n",
    "$$\n",
    "\n",
    "This can be solved by observing that $\\lambda = x_2 + x_3$, then $x_1 + x_3 - \\lambda = 0 \\implies x_1 - x_2 = 0 \\implies x_1 = x_2$. Next, $2 x_1 - (x_1 + x_3) = 0 \\implies x_1 = x_3$ and $x_1 = x_2 = x_3 = 1$. \n",
    "\n",
    "Then for the reduced gradient method, we take $d = (x_1, x_2)$, $s = x_3$, and can find\n",
    "$$\n",
    "\\begin{aligned}\n",
    "\\frac{\\partial f}{\\partial d} =& (x_2 + x_3, x_1 + x_3) \\\\\n",
    "\\frac{\\partial f}{\\partial s} =& (x_2 + x_1) \\\\\n",
    "\\frac{\\partial h}{\\partial s} =& 1 \\\\\n",
    "\\frac{\\partial h}{\\partial d} =& (1, 1)\n",
    "\\end{aligned}\n",
    "$$\n",
    "and then \n",
    "$$\n",
    "\\begin{aligned}\n",
    "\\frac{df}{dd} =& \\frac{\\partial f}{\\partial d} - \\frac{\\partial f}{\\partial s} (\\frac{\\partial h}{\\partial s})^{-1} \\frac{\\partial h}{\\partial d} = (0, 0) = \\\\\n",
    "& (x_2 + x_3, x_1 + x_3) - (x_2 + x_1) (1 / 1) (1, 1) = \\\\\n",
    "&  (x_3 - x_1, x_3 - x_2) = (0, 0) \\implies \\\\\n",
    "& x_3 = x_1 \\text{ and } x_3 = x_2 \\text{, or } = x_1 = x_2 = x_3\n",
    "\\end{aligned}\n",
    "$$\n",
    "Combining this relationship with the equality constraint, we see\n",
    "$$\n",
    "x_1 + x_2 + x_3 - 3 = 0 \\implies 3 x_1 - 3 = 0 \\implies x_1 = x_2 = x_3 = 1\n",
    "$$\n",
    "which agrees with the Lagrange multipliers method. "
   ]
  },
  {
   "cell_type": "markdown",
   "id": "614d5128",
   "metadata": {},
   "source": [
    "---\n",
    "\n",
    "## Problem 4\n",
    "\n",
    "We begin by taking $d = x_2$, $s = x_1$, and then can find\n",
    "\n",
    "$$\n",
    "\\begin{aligned}\n",
    "\\frac{\\partial f}{\\partial d} =& b \\\\\n",
    "\\frac{\\partial f}{\\partial s} =& 2 \\\\\n",
    "\\frac{\\partial h}{\\partial s} =& 2 x_1 \\\\\n",
    "\\frac{\\partial h}{\\partial d} =& -2 x_2\n",
    "\\end{aligned}\n",
    "$$\n",
    "and then \n",
    "$$\n",
    "\\begin{aligned}\n",
    "& \\frac{df}{dd} = \\frac{\\partial f}{\\partial d} - \\frac{\\partial f}{\\partial s} (\\frac{\\partial h}{\\partial s})^{-1} \\frac{\\partial h}{\\partial d} = 0 = \\\\\n",
    "&  b - (2) (\\frac{1}{2x_1}) (-2x_2) = \\\\\n",
    "&  b + 2 \\frac{x_2}{x_1} = 0 \\implies \\\\\n",
    "& b = -2\\frac{x_2}{x_1}\n",
    "\\end{aligned}\n",
    "$$\n",
    "\n",
    "Then for the point $(x_1, x_2) = (1, 2)$, $b$ evaluates to $b = -2 (2 / 1) = -4$ is the value of $b$ that makes the point $(x_1, x_2) = (1, 2)$ the solution.\n"
   ]
  },
  {
   "cell_type": "markdown",
   "id": "48c095ff",
   "metadata": {},
   "source": [
    "---\n",
    "\n",
    "## Problem 5\n",
    "\n",
    "Starting with defining the state and decision variables, we see that there are three total variables two equality constraints giving $n = 3$, $m = 2$, and $\\text{dof} = n - m = 1$. Then let  $d = x_1$ and $s = (x_2, x_3)$.\n",
    "\n",
    "## TODO: \n",
    "Actually impliment method."
   ]
  },
  {
   "cell_type": "code",
   "execution_count": null,
   "id": "512ea9cb",
   "metadata": {},
   "outputs": [],
   "source": [
    "def f_prob_5(x):\n",
    "    y = x[0]**2 + x[1]**2 + x[2]**2\n",
    "    return y\n",
    "\n",
    "def del_f_del_d(x):\n",
    "    return np.array([2.0 * x[0]])\n",
    "\n",
    "def del_f_del_s(x):\n",
    "    return np.array([2.0 * x[1], 2.0 * x[2]]) \n",
    "\n",
    "def del_h_del_s(x):\n",
    "    return np.array([[2 * x[1] / 5, 2 * x[2] / 25], [1, -1]])\n",
    "\n",
    "def del_h_del_d(x):\n",
    "    return np.array([(1/2) * x[0], 1]) # make sure np handles dimensions correctly with this\n",
    "\n",
    "# recall that df/dd = del_f_del_d - del_f_del_s * inv(del_h_del_s) * del_h_del_d\n",
    "    "
   ]
  },
  {
   "cell_type": "code",
   "execution_count": null,
   "id": "73cb7775",
   "metadata": {},
   "outputs": [],
   "source": []
  }
 ],
 "metadata": {
  "interpreter": {
   "hash": "31f2aee4e71d21fbe5cf8b01ff0e069b9275f58929596ceb00d14d90e3e16cd6"
  },
  "kernelspec": {
   "display_name": "Python 3.6.9 64-bit",
   "name": "python3"
  },
  "language_info": {
   "codemirror_mode": {
    "name": "ipython",
    "version": 3
   },
   "file_extension": ".py",
   "mimetype": "text/x-python",
   "name": "python",
   "nbconvert_exporter": "python",
   "pygments_lexer": "ipython3",
   "version": "3.6.9"
  },
  "pycharm": {
   "stem_cell": {
    "cell_type": "raw",
    "metadata": {
     "collapsed": false
    },
    "source": []
   }
  }
 },
 "nbformat": 4,
 "nbformat_minor": 5
}
