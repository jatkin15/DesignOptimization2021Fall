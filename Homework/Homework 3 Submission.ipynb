{
 "cells": [
  {
   "cell_type": "markdown",
   "id": "harmful-logging",
   "metadata": {},
   "source": [
    "### Problem 1 (50 points) \n",
    "\n",
    "Vapor-liquid equilibria data are correlated using two adjustable parameters $A_{12}$ and $A_{21}$ per binary\n",
    "mixture. For low pressures, the equilibrium relation can be formulated as:\n",
    "\n",
    "$$\n",
    "\\begin{aligned}\n",
    "p = & x_1\\exp\\left(A_{12}\\left(\\frac{A_{21}x_2}{A_{12}x_1+A_{21}x_2}\\right)^2\\right)p_{water}^{sat}\\\\\n",
    "& + x_2\\exp\\left(A_{21}\\left(\\frac{A_{12}x_1}{A_{12}x_1+A_{21}x_2}\\right)^2\\right)p_{1,4 dioxane}^{sat}.\n",
    "\\end{aligned}\n",
    "$$\n",
    "\n",
    "Here the saturation pressures are given by the Antoine equation\n",
    "\n",
    "$$\n",
    "\\log_{10}(p^{sat}) = a_1 - \\frac{a_2}{T + a_3},\n",
    "$$\n",
    "\n",
    "where $T = 20$($^{\\circ}{\\rm C}$) and $a_{1,2,3}$ for a water - 1,4 dioxane\n",
    "system is given below.\n",
    "\n",
    "|             | $a_1$     | $a_2$      | $a_3$     |\n",
    "|:------------|:--------|:---------|:--------|\n",
    "| Water       | 8.07131 | 1730.63  | 233.426 |\n",
    "| 1,4 dioxane | 7.43155 | 1554.679 | 240.337 |\n",
    "\n",
    "\n",
    "The following table lists the measured data. Recall that in a binary system $x_1 + x_2 = 1$.\n",
    "\n",
    "|$x_1$ | 0.0 | 0.1 | 0.2 | 0.3 | 0.4 | 0.5 | 0.6 | 0.7 | 0.8 | 0.9 | 1.0 |\n",
    "|:-----|:--------|:---------|:--------|:-----|:-----|:-----|:-----|:-----|:-----|:-----|:-----|\n",
    "|$p$| 28.1 | 34.4 | 36.7 | 36.9 | 36.8 | 36.7 | 36.5 | 35.4 | 32.9 | 27.7 | 17.5 |\n",
    "\n",
    "Estimate $A_{12}$ and $A_{21}$ using data from the above table: \n",
    "\n",
    "1. Formulate the least square problem; \n",
    "2. Since the model is nonlinear, the problem does not have an analytical solution. Therefore, solve it using the gradient descent or Newton's method implemented in HW1; \n",
    "3. Compare your optimized model with the data. Does your model fit well with the data?\n",
    "\n",
    "---\n",
    "\n",
    "### Problem 2 (50 points) \n",
    "\n",
    "Solve the following problem using Bayesian Optimization:\n",
    "$$\n",
    "    \\min_{x_1, x_2} \\quad \\left(4-2.1x_1^2 + \\frac{x_1^4}{3}\\right)x_1^2 + x_1x_2 + \\left(-4 + 4x_2^2\\right)x_2^2,\n",
    "$$\n",
    "for $x_1 \\in [-3,3]$ and $x_2 \\in [-2,2]$. A tutorial on Bayesian Optimization can be found [here](https://thuijskens.github.io/2016/12/29/bayesian-optimisation/).\n",
    "\n",
    "\n",
    "\n"
   ]
  },
  {
   "cell_type": "markdown",
   "metadata": {},
   "source": [
    "---\n",
    "---\n",
    "\n",
    "# Problem 1\n",
    "### Part 1)\n",
    "\n",
    "To formulate this as a least squares problem, we can define the term to be minimized as the squared error of the model for each data point as \n",
    "$$\n",
    "e_i^2 = (p(x_i; A_{12}, A_{21}) - p_i)^2\n",
    "$$\n",
    "where $x_2 = 1 - x_1$ due to the binary system and the model being \n",
    "$$\n",
    "\\begin{aligned}\n",
    "p(x_1; A_{12}, A_{21}) = & x_1\\exp\\left(A_{12}\\left(\\frac{A_{21} (1 - x_1)}{A_{12}x_1+A_{21}(1 - x_1)}\\right)^2\\right)p_{water}^{sat}\\\\\n",
    "& + (1 - x_1)\\exp\\left(A_{21}\\left(\\frac{A_{12}x_1}{A_{12}x_1+A_{21}(1 - x_1)}\\right)^2\\right)p_{1,4 dioxane}^{sat}.\n",
    "\\end{aligned}\n",
    "$$\n",
    "\n",
    "Then the least squares problem is defined as\n",
    "$$\n",
    "    \\min_{A_{12}, A_{21}} \\quad \\Sigma_{i=1}^n e_i^2 = \\Sigma_{i=1}^n (p(x_i; A_{12}, A_{21}) - p_i)^2\n",
    "$$\n",
    "with $n = 11$."
   ]
  },
  {
   "cell_type": "markdown",
   "metadata": {},
   "source": [
    "### Part 2)\n",
    "Firstly the saturation pressures must be calculated using the given equations and data in the problem statement as below. Then the loss function is defined based on the above definition and a gradient descent without line search is implimented similar to the given example."
   ]
  },
  {
   "cell_type": "code",
   "execution_count": 17,
   "metadata": {},
   "outputs": [],
   "source": [
    "## imports\n",
    "import numpy as np\n",
    "import matplotlib.pyplot as plt\n",
    "import torch as t\n",
    "from torch.autograd import Variable"
   ]
  },
  {
   "cell_type": "code",
   "execution_count": 18,
   "metadata": {},
   "outputs": [
    {
     "name": "stdout",
     "output_type": "stream",
     "text": [
      "17.47325208459706\n",
      "28.824099527405245\n"
     ]
    }
   ],
   "source": [
    "## saturation pressure calculations\n",
    "\n",
    "def sat_pressure(T, a):\n",
    "    p_sat = 10.0**(a[0] - (a[1] / (T + a[2])))\n",
    "    return p_sat\n",
    "\n",
    "a_water = [8.07131, 1730.63,  233.426]\n",
    "a_dio = [7.43155, 1554.679, 240.337]\n",
    "T_val = 20.0\n",
    "\n",
    "\n",
    "p_sat_water = sat_pressure(T_val, a_water)\n",
    "p_sat_dio = sat_pressure(T_val, a_dio)\n",
    "\n",
    "print(p_sat_water)\n",
    "print(p_sat_dio)"
   ]
  },
  {
   "cell_type": "code",
   "execution_count": 19,
   "metadata": {},
   "outputs": [],
   "source": [
    "## various function definitions\n",
    "\n",
    "def pressure_eq(x_1, A_12, A_21, p_sat_water, p_sat_dio):\n",
    "    p_eq = x_1 * t.exp(A_12 * ((A_21 * (1.0 - x_1))/(A_12 * x_1 + A_21 * (1.0 - x_1)))**2) * p_sat_water + (1.0 - x_1) * t.exp(A_21 * ((A_12 * x_1)/(A_12 * x_1 + A_21 * (1.0 - x_1)))**2) * p_sat_dio\n",
    "    return p_eq\n",
    "\n",
    "def pressure_eq_np(x_1, A_12, A_21, p_sat_water, p_sat_dio):\n",
    "    p_eq = x_1 * np.exp(A_12 * ((A_21 * (1.0 - x_1))/(A_12 * x_1 + A_21 * (1.0 - x_1)))**2) * p_sat_water + (1.0 - x_1) * np.exp(A_21 * ((A_12 * x_1)/(A_12 * x_1 + A_21 * (1.0 - x_1)))**2) * p_sat_dio\n",
    "    return p_eq\n",
    "\n",
    "def loss_loop(x_obs, p_obs, A, p_sat_water, p_sat_dio):\n",
    "    square_error_sum = 0.0\n",
    "    for i in range(len(x_obs)):\n",
    "        square_error_sum += (pressure_eq(x_obs[i], A[0], A[1], p_sat_water, p_sat_dio) - p_obs[i])**2\n",
    "    return square_error_sum\n",
    "\n"
   ]
  },
  {
   "cell_type": "code",
   "execution_count": 20,
   "id": "divine-setup",
   "metadata": {},
   "outputs": [
    {
     "name": "stdout",
     "output_type": "stream",
     "text": [
      "Hit lower bound for norm of grad!\n",
      "[1.9584197 1.6891853]\n",
      "[-4.7683716e-07  3.5762787e-06]\n",
      "0.6701896\n"
     ]
    }
   ],
   "source": [
    "# Here is a code for gradient descent without line search\n",
    "A = Variable(t.tensor([0.6, 0.4]), requires_grad=True)\n",
    "\n",
    "# Fix the step size\n",
    "a = 0.001\n",
    "e = 0.00001\n",
    "\n",
    "max_iter_num = 10000\n",
    "# observations\n",
    "x_obs = [0.0, 0.1, 0.2, 0.3, 0.4, 0.5, 0.6, 0.7, 0.8, 0.9, 1.0]\n",
    "p_obs = [28.1, 34.4, 36.7, 36.9, 36.8, 36.7, 36.5, 35.4, 32.9, 27.7, 17.5]\n",
    "\n",
    "# Start gradient descent\n",
    "for i in range(max_iter_num):  # TODO: change the termination criterion\n",
    "    loss = loss_loop(x_obs, p_obs, A, p_sat_water, p_sat_dio)\n",
    "    loss.backward()\n",
    "    \n",
    "    # no_grad() specifies that the operations within this context are not part of the computational graph, i.e., we don't need the gradient descent algorithm itself to be differentiable with respect to x\n",
    "    with t.no_grad():\n",
    "        A -= a * A.grad\n",
    "        \n",
    "        if t.norm(A.grad) < e:\n",
    "            print(\"Hit lower bound for norm of grad!\")\n",
    "            break\n",
    "        # need to clear the gradient at every step, or otherwise it will accumulate...\n",
    "        A.grad.zero_()\n",
    "        \n",
    "        \n",
    "print(A.data.numpy())\n",
    "print(A.grad.numpy())\n",
    "print(loss.data.numpy())\n"
   ]
  },
  {
   "cell_type": "markdown",
   "metadata": {},
   "source": [
    "### Part 3)\n",
    "To compare the computed $A_{12}$ and $A_{21}$ with the observations, we will plot both the predicted values side by side with the observations as well as the residuals between the predicted and observered values. \n",
    "\n",
    "Note that the fit appears reasonably accurate from the simple graphical comparison, but also the residuals are mostly small over the domain. However the residuals are not evenly distributed, but that may be an artifact from the small training set rather than a trend in the true population which could only be estimted with more samples. "
   ]
  },
  {
   "cell_type": "code",
   "execution_count": 21,
   "id": "positive-starter",
   "metadata": {},
   "outputs": [
    {
     "name": "stdout",
     "output_type": "stream",
     "text": [
      "[1.9584197 1.6891853]\n"
     ]
    },
    {
     "data": {
      "text/plain": [
       "[<matplotlib.lines.Line2D at 0x7f6abb2dc040>]"
      ]
     },
     "execution_count": 21,
     "metadata": {},
     "output_type": "execute_result"
    },
    {
     "data": {
      "image/png": "[encoded data removed]",
      "text/plain": [
       "<Figure size 432x288 with 1 Axes>"
      ]
     },
     "metadata": {
      "needs_background": "light"
     },
     "output_type": "display_data"
    }
   ],
   "source": [
    "## plotting for comparison\n",
    "A_est = A.data.numpy()\n",
    "print(A_est)\n",
    "p_est = [pressure_eq_np(x_obs[i], A_est[0], A_est[1], p_sat_water, p_sat_dio) for i in range(len(x_obs))]\n",
    "residual = [p_est[i] - p_obs[i] for i in range(len(p_est))]\n",
    "\n",
    "plt.plot(x_obs, p_obs)\n",
    "plt.plot(x_obs, p_est)"
   ]
  },
  {
   "cell_type": "code",
   "execution_count": 22,
   "metadata": {},
   "outputs": [
    {
     "data": {
      "text/plain": [
       "<matplotlib.collections.PathCollection at 0x7f6acd8f5580>"
      ]
     },
     "execution_count": 22,
     "metadata": {},
     "output_type": "execute_result"
    },
    {
     "data": {
      "image/png": "[encoded data removed]",
      "text/plain": [
       "<Figure size 432x288 with 1 Axes>"
      ]
     },
     "metadata": {
      "needs_background": "light"
     },
     "output_type": "display_data"
    }
   ],
   "source": [
    "## plotting residuals\n",
    "plt.scatter(x_obs, residual)"
   ]
  },
  {
   "cell_type": "markdown",
   "metadata": {},
   "source": [
    "# Problem 2\n",
    "\n",
    "The implimentation for this method is preformed by the code below and is partially based on the given tutorial at [here](https://thuijskens.github.io/2016/12/29/bayesian-optimisation/)."
   ]
  },
  {
   "cell_type": "code",
   "execution_count": 46,
   "metadata": {},
   "outputs": [],
   "source": [
    "## imports\n",
    "import sklearn as sk\n",
    "import sklearn.gaussian_process as gp\n",
    "import scipy as sp"
   ]
  },
  {
   "cell_type": "code",
   "execution_count": 47,
   "metadata": {},
   "outputs": [],
   "source": [
    "## function defs\n",
    "def loss(x):\n",
    "    val = (4.0 - 2.1 * x[0]**(2.0) + x[0]**(4.0) / 3.0) * x[0]**(2.0) + x[0] * x[1] + (-4.0 + 4.0 * x[1]**(2.0)) * x[1]**(2.0)\n",
    "    return val\n",
    "\n",
    "def loss_plt(x0, x1):\n",
    "    val = (4.0 - 2.1 * x0**(2.0) + x0**(4.0) / 3.0) * x0**(2.0) + x0 * x1 + (-4.0 + 4.0 * x1**(2.0)) * x1**(2.0)\n",
    "    return val\n",
    "\n",
    "# expected improvement, but negative\n",
    "def ei(x_new, gp_model, yp):\n",
    "    x_dim = len(x_new)\n",
    "    x_new = x_new.reshape(1,-1)\n",
    "    #print(x_new)\n",
    "    mu_hat, sigma_hat = gp_model.predict(x_new, return_std = True)\n",
    "    min_loss = np.min(yp)\n",
    "    if sigma_hat == 0.0:\n",
    "        return np.array([[0, 0]])\n",
    "    Z = (min_loss - mu_hat) / sigma_hat\n",
    "    ei_val = sigma_hat * sp.stats.norm.pdf(Z) + (min_loss - mu_hat) * sp.stats.norm.cdf(Z)\n",
    "    return -ei_val\n",
    "\n",
    "def get_x_new(ei_fun, gp_model, yp, bounds):\n",
    "    restart_num = 30\n",
    "    x_dim = bounds.shape[0]\n",
    "    #print(bounds)\n",
    "    #print(bounds[:,0])\n",
    "    x_0_0 = np.random.uniform(bounds[0,0], bounds[0,1])\n",
    "    x_0_1 = np.random.uniform(bounds[1,0], bounds[1,1])\n",
    "    x_0 = np.array([x_0_0, x_0_1])\n",
    "    best_acquisition_value = 2\n",
    "    for starting_point in np.random.uniform(bounds[:, 0], bounds[:, 1], size=(restart_num, x_dim)):\n",
    "        res = sp.optimize.minimize(fun = ei_fun, x0 = x_0.reshape(2,-1), bounds=bounds, args = (gp_model, yp))\n",
    "        if res.fun < best_acquisition_value:\n",
    "            best_acquisition_value = res.fun\n",
    "            best_x = res.x\n",
    "    return best_x\n"
   ]
  },
  {
   "cell_type": "code",
   "execution_count": 48,
   "metadata": {},
   "outputs": [],
   "source": [
    "x_range = np.array([[-3.0, 3.0], [-2.0, 2.0]])\n",
    "\n",
    "lambda_val = 0.5 # try this at first\n",
    "\n",
    "x_list = [[0.6, 0.1]] # initial start value\n",
    "\n",
    "y_list = [loss(x_list[0])]\n",
    "\n",
    "xp = np.array(x_list)\n",
    "yp = np.array(y_list)\n",
    "\n",
    "kernel = gp.kernels.RBF()\n",
    "alpha = 0.1\n",
    "model = gp.GaussianProcessRegressor(kernel=kernel,\n",
    "                                    n_restarts_optimizer=10,\n",
    "                                    normalize_y=False)\n",
    "\n",
    "iter_num = 100\n",
    "\n"
   ]
  },
  {
   "cell_type": "code",
   "execution_count": 49,
   "metadata": {},
   "outputs": [
    {
     "name": "stderr",
     "output_type": "stream",
     "text": [
      "/home/nchr/anaconda3/lib/python3.8/site-packages/sklearn/gaussian_process/kernels.py:402: ConvergenceWarning: The optimal value found for dimension 0 of parameter length_scale is close to the specified lower bound 1e-05. Decreasing the bound and calling fit again may find a better value.\n",
      "  warnings.warn(\"The optimal value found for \"\n",
      "/home/nchr/anaconda3/lib/python3.8/site-packages/sklearn/gaussian_process/kernels.py:402: ConvergenceWarning: The optimal value found for dimension 0 of parameter length_scale is close to the specified lower bound 1e-05. Decreasing the bound and calling fit again may find a better value.\n",
      "  warnings.warn(\"The optimal value found for \"\n",
      "/home/nchr/anaconda3/lib/python3.8/site-packages/sklearn/gaussian_process/kernels.py:402: ConvergenceWarning: The optimal value found for dimension 0 of parameter length_scale is close to the specified lower bound 1e-05. Decreasing the bound and calling fit again may find a better value.\n",
      "  warnings.warn(\"The optimal value found for \"\n",
      "/home/nchr/anaconda3/lib/python3.8/site-packages/sklearn/gaussian_process/kernels.py:402: ConvergenceWarning: The optimal value found for dimension 0 of parameter length_scale is close to the specified lower bound 1e-05. Decreasing the bound and calling fit again may find a better value.\n",
      "  warnings.warn(\"The optimal value found for \"\n",
      "/home/nchr/anaconda3/lib/python3.8/site-packages/sklearn/gaussian_process/kernels.py:402: ConvergenceWarning: The optimal value found for dimension 0 of parameter length_scale is close to the specified lower bound 1e-05. Decreasing the bound and calling fit again may find a better value.\n",
      "  warnings.warn(\"The optimal value found for \"\n",
      "/home/nchr/anaconda3/lib/python3.8/site-packages/sklearn/gaussian_process/kernels.py:402: ConvergenceWarning: The optimal value found for dimension 0 of parameter length_scale is close to the specified lower bound 1e-05. Decreasing the bound and calling fit again may find a better value.\n",
      "  warnings.warn(\"The optimal value found for \"\n",
      "/home/nchr/anaconda3/lib/python3.8/site-packages/sklearn/gaussian_process/kernels.py:402: ConvergenceWarning: The optimal value found for dimension 0 of parameter length_scale is close to the specified lower bound 1e-05. Decreasing the bound and calling fit again may find a better value.\n",
      "  warnings.warn(\"The optimal value found for \"\n",
      "/home/nchr/anaconda3/lib/python3.8/site-packages/sklearn/gaussian_process/kernels.py:402: ConvergenceWarning: The optimal value found for dimension 0 of parameter length_scale is close to the specified lower bound 1e-05. Decreasing the bound and calling fit again may find a better value.\n",
      "  warnings.warn(\"The optimal value found for \"\n",
      "/home/nchr/anaconda3/lib/python3.8/site-packages/sklearn/gaussian_process/kernels.py:402: ConvergenceWarning: The optimal value found for dimension 0 of parameter length_scale is close to the specified lower bound 1e-05. Decreasing the bound and calling fit again may find a better value.\n",
      "  warnings.warn(\"The optimal value found for \"\n",
      "/home/nchr/anaconda3/lib/python3.8/site-packages/sklearn/gaussian_process/kernels.py:402: ConvergenceWarning: The optimal value found for dimension 0 of parameter length_scale is close to the specified lower bound 1e-05. Decreasing the bound and calling fit again may find a better value.\n",
      "  warnings.warn(\"The optimal value found for \"\n",
      "/home/nchr/anaconda3/lib/python3.8/site-packages/sklearn/gaussian_process/kernels.py:402: ConvergenceWarning: The optimal value found for dimension 0 of parameter length_scale is close to the specified lower bound 1e-05. Decreasing the bound and calling fit again may find a better value.\n",
      "  warnings.warn(\"The optimal value found for \"\n",
      "/home/nchr/anaconda3/lib/python3.8/site-packages/sklearn/gaussian_process/kernels.py:402: ConvergenceWarning: The optimal value found for dimension 0 of parameter length_scale is close to the specified lower bound 1e-05. Decreasing the bound and calling fit again may find a better value.\n",
      "  warnings.warn(\"The optimal value found for \"\n",
      "/home/nchr/anaconda3/lib/python3.8/site-packages/sklearn/gaussian_process/kernels.py:402: ConvergenceWarning: The optimal value found for dimension 0 of parameter length_scale is close to the specified lower bound 1e-05. Decreasing the bound and calling fit again may find a better value.\n",
      "  warnings.warn(\"The optimal value found for \"\n",
      "/home/nchr/anaconda3/lib/python3.8/site-packages/sklearn/gaussian_process/kernels.py:402: ConvergenceWarning: The optimal value found for dimension 0 of parameter length_scale is close to the specified lower bound 1e-05. Decreasing the bound and calling fit again may find a better value.\n",
      "  warnings.warn(\"The optimal value found for \"\n",
      "/home/nchr/anaconda3/lib/python3.8/site-packages/sklearn/gaussian_process/kernels.py:402: ConvergenceWarning: The optimal value found for dimension 0 of parameter length_scale is close to the specified lower bound 1e-05. Decreasing the bound and calling fit again may find a better value.\n",
      "  warnings.warn(\"The optimal value found for \"\n",
      "/home/nchr/anaconda3/lib/python3.8/site-packages/sklearn/gaussian_process/kernels.py:402: ConvergenceWarning: The optimal value found for dimension 0 of parameter length_scale is close to the specified lower bound 1e-05. Decreasing the bound and calling fit again may find a better value.\n",
      "  warnings.warn(\"The optimal value found for \"\n"
     ]
    },
    {
     "name": "stdout",
     "output_type": "stream",
     "text": [
      "[[ 0.06963001 -0.74432216]]\n",
      "-1.0208124432623666\n"
     ]
    }
   ],
   "source": [
    "for i in range(iter_num):\n",
    "    # 1.1. update f(x) for gp  \n",
    "    model.fit(xp, yp)\n",
    "\n",
    "    # 2. find x_new such that x_new maximizes EI\n",
    "    x_new = get_x_new(ei, model, yp, x_range)\n",
    "    # 3. evaluate new loss(x_new)\n",
    "    x_list.append(x_new)\n",
    "    y_list.append(loss(x_new))\n",
    "\n",
    "    # 1.2. update xp and yp\n",
    "    xp = np.array(x_list)\n",
    "    yp = np.array(y_list)\n",
    "#print(xp)\n",
    "#print(yp)\n",
    "print(xp[yp == np.min(yp)])\n",
    "print(np.min(yp))"
   ]
  },
  {
   "cell_type": "code",
   "execution_count": 50,
   "metadata": {},
   "outputs": [
    {
     "data": {
      "image/png": "[encoded data removed]",
      "text/plain": [
       "<Figure size 432x288 with 1 Axes>"
      ]
     },
     "metadata": {
      "needs_background": "light"
     },
     "output_type": "display_data"
    }
   ],
   "source": [
    "import matplotlib.pyplot as plt\n",
    "from mpl_toolkits.mplot3d import *\n",
    "from matplotlib import cm\n",
    "\n",
    "fig = plt.figure()\n",
    "ax = fig.gca(projection='3d')\n",
    "\n",
    "x_grid = np.arange(-3.0, 3.0, 0.05)\n",
    "y_grid = np.arange(-2.0, 2.0, 0.05)\n",
    "X, Y = np.meshgrid(x_grid, y_grid)\n",
    "zs = np.array(loss_plt(np.ravel(X), np.ravel(Y)))\n",
    "Z = zs.reshape(X.shape)\n",
    "\n",
    "ax.scatter(xp[yp == np.min(yp)][0,0], xp[yp == np.min(yp)][0,1], np.min(yp), s = 200, c='m', marker='o')\n",
    "\n",
    "ax.plot_surface(X, Y, Z, alpha=0.9)\n",
    "\n",
    "ax.set_xlabel('X0')\n",
    "ax.set_ylabel('X1')\n",
    "ax.set_zlabel('f(X0, X1)')\n",
    "\n",
    "\n",
    "plt.show()"
   ]
  },
  {
   "cell_type": "markdown",
   "metadata": {},
   "source": [
    "As seen above, the optimization algorithm finds the minimum of the given function to be $y_{min} = f(x*)_{min} = -1.0208$ where $x* = (0.0696 \\;   -0.7443)$. This answer appears to agree with the plot of the surface shown above where it appears to have a minimum near the value found by the algorithm, shown by the purple dot on the graph.\n",
    "\n",
    "One observation is that running this implimentation multiple times can yield different solutions, but they are all near the value of $y_{min} = f(x*)_{min} \\approx -1$. This is likely due to randomness in the method caused by selecting random starting position for the optimizing of the expected improvement function."
   ]
  },
  {
   "cell_type": "markdown",
   "metadata": {},
   "source": []
  },
  {
   "cell_type": "markdown",
   "metadata": {},
   "source": []
  }
 ],
 "metadata": {
  "interpreter": {
   "hash": "1365a80da941a4ca5c473780ff8f0b4afe1d50b21656d8a9c808fcef8cdbad06"
  },
  "kernelspec": {
   "display_name": "Python 3.8.8 64-bit ('base': conda)",
   "name": "python3"
  },
  "language_info": {
   "codemirror_mode": {
    "name": "ipython",
    "version": 3
   },
   "file_extension": ".py",
   "mimetype": "text/x-python",
   "name": "python",
   "nbconvert_exporter": "python",
   "pygments_lexer": "ipython3",
   "version": "3.8.8"
  }
 },
 "nbformat": 4,
 "nbformat_minor": 5
}
