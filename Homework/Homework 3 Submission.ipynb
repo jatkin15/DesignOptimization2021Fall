{
 "cells": [
  {
   "cell_type": "markdown",
   "id": "harmful-logging",
   "metadata": {},
   "source": [
    "### Problem 1 (50 points) \n",
    "\n",
    "Vapor-liquid equilibria data are correlated using two adjustable parameters $A_{12}$ and $A_{21}$ per binary\n",
    "mixture. For low pressures, the equilibrium relation can be formulated as:\n",
    "\n",
    "$$\n",
    "\\begin{aligned}\n",
    "p = & x_1\\exp\\left(A_{12}\\left(\\frac{A_{21}x_2}{A_{12}x_1+A_{21}x_2}\\right)^2\\right)p_{water}^{sat}\\\\\n",
    "& + x_2\\exp\\left(A_{21}\\left(\\frac{A_{12}x_1}{A_{12}x_1+A_{21}x_2}\\right)^2\\right)p_{1,4 dioxane}^{sat}.\n",
    "\\end{aligned}\n",
    "$$\n",
    "\n",
    "Here the saturation pressures are given by the Antoine equation\n",
    "\n",
    "$$\n",
    "\\log_{10}(p^{sat}) = a_1 - \\frac{a_2}{T + a_3},\n",
    "$$\n",
    "\n",
    "where $T = 20$($^{\\circ}{\\rm C}$) and $a_{1,2,3}$ for a water - 1,4 dioxane\n",
    "system is given below.\n",
    "\n",
    "|             | $a_1$     | $a_2$      | $a_3$     |\n",
    "|:------------|:--------|:---------|:--------|\n",
    "| Water       | 8.07131 | 1730.63  | 233.426 |\n",
    "| 1,4 dioxane | 7.43155 | 1554.679 | 240.337 |\n",
    "\n",
    "\n",
    "The following table lists the measured data. Recall that in a binary system $x_1 + x_2 = 1$.\n",
    "\n",
    "|$x_1$ | 0.0 | 0.1 | 0.2 | 0.3 | 0.4 | 0.5 | 0.6 | 0.7 | 0.8 | 0.9 | 1.0 |\n",
    "|:-----|:--------|:---------|:--------|:-----|:-----|:-----|:-----|:-----|:-----|:-----|:-----|\n",
    "|$p$| 28.1 | 34.4 | 36.7 | 36.9 | 36.8 | 36.7 | 36.5 | 35.4 | 32.9 | 27.7 | 17.5 |\n",
    "\n",
    "Estimate $A_{12}$ and $A_{21}$ using data from the above table: \n",
    "\n",
    "1. Formulate the least square problem; \n",
    "2. Since the model is nonlinear, the problem does not have an analytical solution. Therefore, solve it using the gradient descent or Newton's method implemented in HW1; \n",
    "3. Compare your optimized model with the data. Does your model fit well with the data?\n",
    "\n",
    "---\n",
    "\n",
    "### Problem 2 (50 points) \n",
    "\n",
    "Solve the following problem using Bayesian Optimization:\n",
    "$$\n",
    "    \\min_{x_1, x_2} \\quad \\left(4-2.1x_1^2 + \\frac{x_1^4}{3}\\right)x_1^2 + x_1x_2 + \\left(-4 + 4x_2^2\\right)x_2^2,\n",
    "$$\n",
    "for $x_1 \\in [-3,3]$ and $x_2 \\in [-2,2]$. A tutorial on Bayesian Optimization can be found [here](https://thuijskens.github.io/2016/12/29/bayesian-optimisation/).\n",
    "\n",
    "\n",
    "\n"
   ]
  },
  {
   "cell_type": "markdown",
   "metadata": {},
   "source": [
    "---\n",
    "---\n",
    "\n",
    "# Problem 1\n",
    "### Part 1)\n",
    "\n",
    "To formulate this as a least squares problem, we can define the term to be minimized as the squared error of the model for each data point as \n",
    "$$\n",
    "e_i^2 = (p(x_i; A_{12}, A_{21}) - p_i)^2\n",
    "$$\n",
    "where $x_2 = 1 - x_1$ due to the binary system and the model being \n",
    "$$\n",
    "\\begin{aligned}\n",
    "p(x_1; A_{12}, A_{21}) = & x_1\\exp\\left(A_{12}\\left(\\frac{A_{21} (1 - x_1)}{A_{12}x_1+A_{21}(1 - x_1)}\\right)^2\\right)p_{water}^{sat}\\\\\n",
    "& + (1 - x_1)\\exp\\left(A_{21}\\left(\\frac{A_{12}x_1}{A_{12}x_1+A_{21}(1 - x_1)}\\right)^2\\right)p_{1,4 dioxane}^{sat}.\n",
    "\\end{aligned}\n",
    "$$\n",
    "\n",
    "Then the least squares problem is defined as\n",
    "$$\n",
    "    \\min_{A_{12}, A_{21}} \\quad \\Sigma_{i=1}^n e_i^2 = \\Sigma_{i=1}^n (p(x_i; A_{12}, A_{21}) - p_i)^2\n",
    "$$\n",
    "with $n = 11$."
   ]
  },
  {
   "cell_type": "markdown",
   "metadata": {},
   "source": [
    "### Part 2)\n",
    "Firstly the saturation pressures must be calculated using the given equations and data in the problem statement as below. Then the loss function is defined based on the above definition and a gradient descent without line search is implimented similar to the given example."
   ]
  },
  {
   "cell_type": "code",
   "execution_count": 3,
   "metadata": {},
   "outputs": [],
   "source": [
    "## imports\n",
    "import numpy as np\n",
    "import matplotlib.pyplot as plt\n",
    "import torch as t\n",
    "from torch.autograd import Variable"
   ]
  },
  {
   "cell_type": "code",
   "execution_count": 4,
   "metadata": {},
   "outputs": [
    {
     "name": "stdout",
     "output_type": "stream",
     "text": [
      "17.47325208459706\n",
      "28.824099527405245\n"
     ]
    }
   ],
   "source": [
    "## saturation pressure calculations\n",
    "\n",
    "def sat_pressure(T, a):\n",
    "    p_sat = 10.0**(a[0] - (a[1] / (T + a[2])))\n",
    "    return p_sat\n",
    "\n",
    "a_water = [8.07131, 1730.63,  233.426]\n",
    "a_dio = [7.43155, 1554.679, 240.337]\n",
    "T_val = 20.0\n",
    "\n",
    "\n",
    "\n",
    "p_sat_water = sat_pressure(T_val, a_water)\n",
    "p_sat_dio = sat_pressure(T_val, a_dio)\n",
    "\n",
    "print(p_sat_water)\n",
    "print(p_sat_dio)"
   ]
  },
  {
   "cell_type": "code",
   "execution_count": 27,
   "metadata": {},
   "outputs": [],
   "source": [
    "## various function definitions\n",
    "\n",
    "def pressure_eq(x_1, A_12, A_21, p_sat_water, p_sat_dio):\n",
    "    p_eq = x_1 * t.exp(A_12 * ((A_21 * (1.0 - x_1))/(A_12 * x_1 + A_21 * (1.0 - x_1)))**2) * p_sat_water + (1.0 - x_1) * t.exp(A_21 * ((A_12 * x_1)/(A_12 * x_1 + A_21 * (1.0 - x_1)))**2) * p_sat_dio\n",
    "    return p_eq\n",
    "\n",
    "def pressure_eq_np(x_1, A_12, A_21, p_sat_water, p_sat_dio):\n",
    "    p_eq = x_1 * np.exp(A_12 * ((A_21 * (1.0 - x_1))/(A_12 * x_1 + A_21 * (1.0 - x_1)))**2) * p_sat_water + (1.0 - x_1) * np.exp(A_21 * ((A_12 * x_1)/(A_12 * x_1 + A_21 * (1.0 - x_1)))**2) * p_sat_dio\n",
    "    return p_eq\n",
    "\n",
    "def loss_loop(x_obs, p_obs, A, p_sat_water, p_sat_dio):\n",
    "    square_error_sum = 0.0\n",
    "    for i in range(len(x_obs)):\n",
    "        square_error_sum += (pressure_eq(x_obs[i], A[0], A[1], p_sat_water, p_sat_dio) - p_obs[i])**2\n",
    "    return square_error_sum\n",
    "\n"
   ]
  },
  {
   "cell_type": "code",
   "execution_count": 48,
   "id": "divine-setup",
   "metadata": {},
   "outputs": [
    {
     "name": "stdout",
     "output_type": "stream",
     "text": [
      "Hit lower bound for norm of grad!\n",
      "[1.9584197 1.6891853]\n",
      "[-4.7683716e-07  3.5762787e-06]\n",
      "0.6701896\n"
     ]
    }
   ],
   "source": [
    "# Here is a code for gradient descent without line search\n",
    "A = Variable(t.tensor([0.6, 0.4]), requires_grad=True)\n",
    "\n",
    "# Fix the step size\n",
    "a = 0.001\n",
    "e = 0.00001\n",
    "\n",
    "max_iter_num = 10000\n",
    "# observations\n",
    "x_obs = [0.0, 0.1, 0.2, 0.3, 0.4, 0.5, 0.6, 0.7, 0.8, 0.9, 1.0]\n",
    "p_obs = [28.1, 34.4, 36.7, 36.9, 36.8, 36.7, 36.5, 35.4, 32.9, 27.7, 17.5]\n",
    "\n",
    "# Start gradient descent\n",
    "for i in range(max_iter_num):  # TODO: change the termination criterion\n",
    "    loss = loss_loop(x_obs, p_obs, A, p_sat_water, p_sat_dio)\n",
    "    loss.backward()\n",
    "    \n",
    "    # no_grad() specifies that the operations within this context are not part of the computational graph, i.e., we don't need the gradient descent algorithm itself to be differentiable with respect to x\n",
    "    with t.no_grad():\n",
    "        A -= a * A.grad\n",
    "        \n",
    "        if t.norm(A.grad) < e:\n",
    "            print(\"Hit lower bound for norm of grad!\")\n",
    "            break\n",
    "        # need to clear the gradient at every step, or otherwise it will accumulate...\n",
    "        A.grad.zero_()\n",
    "        \n",
    "        \n",
    "print(A.data.numpy())\n",
    "print(A.grad.numpy())\n",
    "print(loss.data.numpy())\n"
   ]
  },
  {
   "cell_type": "markdown",
   "metadata": {},
   "source": [
    "### Part 3)\n",
    "To compare the computed $A_{12}$ and $A_{21}$ with the observations, we will plot both the predicted values side by side with the observations as well as the residuals between the predicted and observered values. \n",
    "\n",
    "Note that the fit appears reasonably accurate from the simple graphical comparison, but also the residuals are mostly small over the domain. However the residuals are not evenly distributed, but that may be an artifact from the small training set rather than a trend in the true population which could only be estimted with more samples. "
   ]
  },
  {
   "cell_type": "code",
   "execution_count": 49,
   "id": "positive-starter",
   "metadata": {},
   "outputs": [
    {
     "name": "stdout",
     "output_type": "stream",
     "text": [
      "[1.9584197 1.6891853]\n"
     ]
    },
    {
     "data": {
      "text/plain": [
       "[<matplotlib.lines.Line2D at 0x7f0bb93c5040>]"
      ]
     },
     "execution_count": 49,
     "metadata": {},
     "output_type": "execute_result"
    },
    {
     "data": {
      "image/png": "[encoded data removed]",
      "text/plain": [
       "<Figure size 432x288 with 1 Axes>"
      ]
     },
     "metadata": {
      "needs_background": "light"
     },
     "output_type": "display_data"
    }
   ],
   "source": [
    "## plotting for comparison\n",
    "A_est = A.data.numpy()\n",
    "print(A_est)\n",
    "p_est = [pressure_eq_np(x_obs[i], A_est[0], A_est[1], p_sat_water, p_sat_dio) for i in range(len(x_obs))]\n",
    "residual = [p_est[i] - p_obs[i] for i in range(len(p_est))]\n",
    "\n",
    "plt.plot(x_obs, p_obs)\n",
    "plt.plot(x_obs, p_est)"
   ]
  },
  {
   "cell_type": "code",
   "execution_count": 51,
   "metadata": {},
   "outputs": [
    {
     "data": {
      "text/plain": [
       "<matplotlib.collections.PathCollection at 0x7f0bb92ebcd0>"
      ]
     },
     "execution_count": 51,
     "metadata": {},
     "output_type": "execute_result"
    },
    {
     "data": {
      "image/png": "[encoded data removed]",
      "text/plain": [
       "<Figure size 432x288 with 1 Axes>"
      ]
     },
     "metadata": {
      "needs_background": "light"
     },
     "output_type": "display_data"
    }
   ],
   "source": [
    "## plotting residuals\n",
    "plt.scatter(x_obs, residual)"
   ]
  },
  {
   "cell_type": "markdown",
   "metadata": {},
   "source": [
    "# Problem 2\n"
   ]
  }
 ],
 "metadata": {
  "interpreter": {
   "hash": "1365a80da941a4ca5c473780ff8f0b4afe1d50b21656d8a9c808fcef8cdbad06"
  },
  "kernelspec": {
   "display_name": "Python 3.8.8 64-bit ('base': conda)",
   "name": "python3"
  },
  "language_info": {
   "codemirror_mode": {
    "name": "ipython",
    "version": 3
   },
   "file_extension": ".py",
   "mimetype": "text/x-python",
   "name": "python",
   "nbconvert_exporter": "python",
   "pygments_lexer": "ipython3",
   "version": "3.8.8"
  }
 },
 "nbformat": 4,
 "nbformat_minor": 5
}
