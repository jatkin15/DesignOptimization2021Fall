{
 "cells": [
  {
   "cell_type": "markdown",
   "metadata": {},
   "source": [
    "### Problem 1\n",
    "\n",
    "(100 points) Consider the following problem. \n",
    "\n",
    "$$\n",
    "\\hbox{min } f =  x_1^2+(x_2-3)^2\n",
    "$$\n",
    "$$\n",
    "\\hbox{s.t. } g_1 =  x_2^2-2x_1\\leq 0\n",
    "$$\n",
    "$$\n",
    " g_2= (x_2-1)^2+5x_1-15\\leq 0\n",
    "$$\n",
    "\n",
    "Implement an SQP algorithm with line search to solve this problem, starting from\n",
    "${\\bf x}_0=(1,1)^T$. Incorporate the QP subproblem. Use BFGS\n",
    "approximation for the Hessian of the Lagrangian. Use the\n",
    "merit function and Armijo Line Search to find the step size."
   ]
  },
  {
   "cell_type": "code",
   "execution_count": 1,
   "metadata": {},
   "outputs": [],
   "source": [
    "##\n",
    "# imports\n",
    "\n",
    "import numpy as np\n",
    "import scipy.optimize as opt"
   ]
  },
  {
   "cell_type": "code",
   "execution_count": 2,
   "metadata": {},
   "outputs": [],
   "source": [
    "##\n",
    "# function defs\n",
    "\n",
    "def cost_f(x):\n",
    "    return x[0]**2.0 + (x[1] - 3)**2.0\n",
    "\n",
    "def g_1(x):\n",
    "    return x[1]**2.0 - 2.0 * x[0]\n",
    "\n",
    "def g_2(x):\n",
    "    return (x[1] - 1)**2.0 + 5.0 * x[0] - 15.0\n",
    "\n",
    "def g_f(x):\n",
    "    return [g_1(x), g_2(x)]\n",
    "\n",
    "def grad_cost_f(x):\n",
    "    return np.array([2.0 * x[0], 2.0 * x[1] - 6.0])\n",
    "\n",
    "def grad_g_f(x):\n",
    "    return np.array([[-2.0, 5.0], [2.0 * x[1], 2.0 * x[1] - 2.0]])\n",
    "\n",
    "def merit_f(x, mu, w_j):\n",
    "    g = grad_g_f(x)\n",
    "    return cost_f(x) + np.transpose(g) @ w_j\n",
    "\n",
    "def del_merit_del_a_f(x, mu, w_j, s):\n",
    "    dgda = []\n",
    "    grad_g = grad_g_f(x)\n",
    "    print(grad_g)\n",
    "    for i in range(len(x)):\n",
    "        if 0 < (grad_g[:,i] @ s):\n",
    "            dgda.append(np.transpose(grad_g[:,i]) @ s)\n",
    "        else:\n",
    "            dgda.append(0.0)\n",
    "    dgda = np.array(dgda)\n",
    "    return np.transpose(grad_cost_f(x)) @ s + np.transpose(dgda) @ w_j\n",
    "\n",
    "def line_search_phi(x, a, t, w_j, s, mu):\n",
    "    print(merit_f(x, mu, w_j))\n",
    "    del_merit_del_a_f(x, mu, w_j, s)\n",
    "    return merit_f(x, mu, w_j) + t * a * del_merit_del_a_f(x, mu, w_j, s)\n",
    "\n",
    "def line_search(x, t, s, mu):\n",
    "    return 0.5\n",
    "    w_j_k = np.abs(mu)\n",
    "    i = 0\n",
    "    a = 1\n",
    "    while line_search_phi(x, a, t, w_j_k, s, mu) < cost_f(x - a * grad_cost_f(x)):\n",
    "        a = 0.5 * a\n",
    "        i = i + 1\n",
    "        if (i > 100):\n",
    "            print(\"line search did not converge.\")\n",
    "            return a\n",
    "    return a\n",
    "\n",
    "def QP(x, lam, W):\n",
    "    max_iter_count = 10000\n",
    "    for i in range(max_iter_count):\n",
    "        A = grad_g_f(x)\n",
    "        fx = grad_cost_f(x)\n",
    "        h = g_f(x)\n",
    "        top_big_mat = np.hstack(tuple([W, np.transpose(A)]))\n",
    "        zero_mat = np.zeros(shape=np.shape(A))\n",
    "        bot_big_mat = np.hstack(tuple([A, zero_mat]))\n",
    "        big_mat = np.vstack(tuple([top_big_mat, bot_big_mat]))\n",
    "        #rint(big_mat)\n",
    "        try:\n",
    "            s_lam = np.linalg.inv(big_mat) @ (-1.0 * np.hstack(tuple([fx, h])))\n",
    "        except:\n",
    "            print(big_mat)\n",
    "        s = s_lam[0:2]\n",
    "        lam = s_lam[2:4]\n",
    "        mu_mag = np.linalg.norm(lam) # mu and lam are interchangeable here, no equality constraints\n",
    "        if mu_mag > 0:\n",
    "            return s, lam\n",
    "        elif mu_mag <= 0: # add more here\n",
    "            pass\n",
    "    print(\"QP hit max iteration count!\")\n",
    "    return [s, lam]\n",
    "\n",
    "def BFGS(x_k, x_kp1, H_k, s):\n",
    "    y = grad_cost_f(x_kp1) - grad_cost_f(x_k)\n",
    "    mid_term = (y @ np.transpose(y)) / (np.transpose(y) @ s)\n",
    "    last_term = ((H_k @ s) @ (np.transpose(s) @ H_k) / ((np.transpose(s) @ H_k) @ s))\n",
    "    return H_k + mid_term - last_term\n",
    "\n",
    "def SQP(x_0, lam_0, mu_0, H_0, epi):\n",
    "    t = 0.1\n",
    "    H_k = H_0\n",
    "    mu = mu_0\n",
    "    lam = lam_0\n",
    "    x_k = x_0\n",
    "    div_L = cost_f(x_k) + np.transpose(mu) @ grad_g_f(x_k)\n",
    "    norm_div_L = np.linalg.norm(div_L)\n",
    "    counter = 0\n",
    "    while epi < norm_div_L:\n",
    "        W_k = H_k[0:2, 0:2]\n",
    "        (s_k, mu) = QP(x_k, mu, W_k)\n",
    "        alpha_k = line_search(x_k, t, s_k, mu)\n",
    "        x_kp1 = x_k + alpha_k * s_k\n",
    "        H_est_kp1 = BFGS(x_k, x_kp1, H_k, s_k)\n",
    "        div_L = cost_f(x_kp1) + np.transpose(x_kp1) @ grad_g_f(x_kp1)\n",
    "        norm_div_L = np.linalg.norm(div_L)\n",
    "        x_k = x_kp1\n",
    "        H_k = H_est_kp1\n",
    "        counter = counter + 1\n",
    "        if counter > 1000:\n",
    "            print(norm_div_L)\n",
    "            print(\"Did not converge in SQP!\")\n",
    "            return x_k\n",
    "    return x_k\n"
   ]
  },
  {
   "cell_type": "code",
   "execution_count": 3,
   "metadata": {},
   "outputs": [
    {
     "name": "stdout",
     "output_type": "stream",
     "text": [
      "Optimization terminated successfully\n",
      "[1.06020715 1.45616424]\n"
     ]
    }
   ],
   "source": [
    "##\n",
    "# checking real answer \n",
    "x_0 = np.array([1.0, 1.0])\n",
    "constraints = opt.NonlinearConstraint(g_f, [-np.inf, -np.inf], [0.0, 0.0])\n",
    "result = opt.minimize(cost_f, x_0, constraints=constraints)\n",
    "print(result.message)\n",
    "print(result.x)"
   ]
  },
  {
   "cell_type": "code",
   "execution_count": 4,
   "metadata": {},
   "outputs": [
    {
     "name": "stderr",
     "output_type": "stream",
     "text": [
      "<ipython-input-2-d232aaa97793>:83: RuntimeWarning: invalid value encountered in double_scalars\n",
      "  mid_term = (y @ np.transpose(y)) / (np.transpose(y) @ s)\n"
     ]
    },
    {
     "name": "stdout",
     "output_type": "stream",
     "text": [
      "QP hit max iteration count!\n",
      "x_ans:  [nan nan]\n"
     ]
    }
   ],
   "source": [
    "##\n",
    "# running this version\n",
    "\n",
    "H_0 = np.eye(2)\n",
    "mu_0 = lam_0 = np.array([0.0, 0.0])\n",
    "epi = 1e-3\n",
    "x_ans = SQP(x_0, lam_0, mu_0, H_0, epi)\n",
    "print(\"x_ans: \", x_ans)"
   ]
  },
  {
   "cell_type": "markdown",
   "metadata": {},
   "source": [
    "* DONE\n",
    "    * Set up basic structure\n",
    "    * most of QP\n",
    "    * checked what answer I should be getting.\n",
    "    * wrote merit function line search\n",
    "    * wrote BFGS function\n",
    "\n",
    "* TODO \n",
    "    * debug"
   ]
  },
  {
   "cell_type": "markdown",
   "metadata": {},
   "source": []
  }
 ],
 "metadata": {
  "kernelspec": {
   "display_name": "Python 3",
   "language": "python",
   "name": "python3"
  },
  "language_info": {
   "codemirror_mode": {
    "name": "ipython",
    "version": 3
   },
   "file_extension": ".py",
   "mimetype": "text/x-python",
   "name": "python",
   "nbconvert_exporter": "python",
   "pygments_lexer": "ipython3",
   "version": "3.8.5"
  }
 },
 "nbformat": 4,
 "nbformat_minor": 5
}
